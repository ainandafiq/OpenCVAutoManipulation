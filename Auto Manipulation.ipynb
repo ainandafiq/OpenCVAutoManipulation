{
 "cells": [
  {
   "cell_type": "code",
   "execution_count": 1,
   "id": "fa9fb5e0",
   "metadata": {},
   "outputs": [],
   "source": [
    "import cv2\n",
    "import os"
   ]
  },
  {
   "cell_type": "code",
   "execution_count": 1,
   "id": "0997656f",
   "metadata": {},
   "outputs": [],
   "source": [
    "## Load Dataset"
   ]
  },
  {
   "cell_type": "code",
   "execution_count": 2,
   "id": "7d4f7086",
   "metadata": {},
   "outputs": [],
   "source": [
    "DATASET_PATH = r\"E:\\\\Ari Folder\\\\Own folder\\\\python\\\\dataset\\\\perkakas\\\\\""
   ]
  },
  {
   "cell_type": "code",
   "execution_count": 2,
   "id": "233b2724",
   "metadata": {},
   "outputs": [],
   "source": [
    "## Loop Folder And Manipulate"
   ]
  },
  {
   "cell_type": "code",
   "execution_count": 3,
   "id": "8a6c3c43",
   "metadata": {},
   "outputs": [
    {
     "name": "stdout",
     "output_type": "stream",
     "text": [
      "processing : kunci_inggris.jpg\n",
      "processing : obeng.jpg\n",
      "processing : palu.jpg\n",
      "processing : tang.jpg\n"
     ]
    }
   ],
   "source": [
    "file_list=[]\n",
    "for files in os.listdir(DATASET_PATH):\n",
    "    file_list.append(files)\n",
    "\n",
    "for imgName in file_list :\n",
    "    img_path = DATASET_PATH+imgName\n",
    "    print(\"processing : {0}\".format(imgName))\n",
    "    \n",
    "    img = cv2.imread(str(img_path))\n",
    "    \n",
    "    #rotate 90\n",
    "    img_rotate_90 = cv2.rotate(img, cv2.ROTATE_90_CLOCKWISE)\n",
    "    #rotate 180\n",
    "    img_rotate_180 = cv2.rotate(img, cv2.ROTATE_180)\n",
    "    #rotate 270\n",
    "    img_rotate_270 = cv2.rotate(img, cv2.ROTATE_90_COUNTERCLOCKWISE)\n",
    "    #flip vertikal\n",
    "    img_flip_vertikal = cv2.flip(img, 0)\n",
    "    #flip horizontal\n",
    "    img_flip_horizontal = cv2.flip(img, 1)\n",
    "    #flip horizontal + vertikal\n",
    "    img_flip_double = cv2.flip(img, -1)\n",
    "    \n",
    "    #save\n",
    "    cv2.imwrite(str(os.path.splitext(imgName)[0])+\"-flip-double.jpg\",img_flip_double)\n",
    "    cv2.imwrite(str(os.path.splitext(imgName)[0])+\"-flip-horizontal.jpg\",img_flip_horizontal)\n",
    "    cv2.imwrite(str(os.path.splitext(imgName)[0])+\"-flip-vertical.jpg\",img_flip_vertikal)\n",
    "    cv2.imwrite(str(os.path.splitext(imgName)[0])+\"-rotate-270.jpg\",img_rotate_270)\n",
    "    cv2.imwrite(str(os.path.splitext(imgName)[0])+\"-rotate-180.jpg\",img_rotate_180)\n",
    "    cv2.imwrite(str(os.path.splitext(imgName)[0])+\"-rotate-90.jpg\",img_rotate_90)"
   ]
  },
  {
   "cell_type": "code",
   "execution_count": null,
   "id": "025bd305",
   "metadata": {},
   "outputs": [],
   "source": []
  }
 ],
 "metadata": {
  "kernelspec": {
   "display_name": "Python 3 (ipykernel)",
   "language": "python",
   "name": "python3"
  },
  "language_info": {
   "codemirror_mode": {
    "name": "ipython",
    "version": 3
   },
   "file_extension": ".py",
   "mimetype": "text/x-python",
   "name": "python",
   "nbconvert_exporter": "python",
   "pygments_lexer": "ipython3",
   "version": "3.9.7"
  }
 },
 "nbformat": 4,
 "nbformat_minor": 5
}
